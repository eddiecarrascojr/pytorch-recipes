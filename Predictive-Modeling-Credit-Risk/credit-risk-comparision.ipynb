{
 "cells": [
  {
   "cell_type": "code",
   "execution_count": 2,
   "id": "5d4081bb",
   "metadata": {},
   "outputs": [],
   "source": [
    "import torch\n",
    "import torch.nn as nn\n",
    "from torch.utils.data import Dataset, DataLoader\n",
    "import pandas as pd\n",
    "import numpy as np\n",
    "from sklearn.model_selection import train_test_split\n",
    "from sklearn.preprocessing import StandardScaler\n",
    "from sklearn.metrics import accuracy_score, precision_score, recall_score, f1_score\n",
    "import xgboost as xgb"
   ]
  },
  {
   "cell_type": "markdown",
   "id": "46faa13e",
   "metadata": {},
   "source": [
    "# 1. Load and Prepare the Data ---\n",
    "\n",
    "The UCI German Credit dataset is often found in a space-separated format without a header."
   ]
  },
  {
   "cell_type": "code",
   "execution_count": 3,
   "id": "9ee09503",
   "metadata": {},
   "outputs": [
    {
     "name": "stdout",
     "output_type": "stream",
     "text": [
      "Dataset loaded successfully.\n"
     ]
    }
   ],
   "source": [
    "\n",
    "# Define column names for the dataset\n",
    "column_names = [\n",
    "    'existing_checking_account', 'duration_in_month', 'credit_history', 'purpose',\n",
    "    'credit_amount', 'savings_account_bonds', 'present_employment_since',\n",
    "    'installment_rate_percentage', 'personal_status_sex', 'other_debtors_guarantors',\n",
    "    'present_residence_since', 'property', 'age_in_years', 'other_installment_plans',\n",
    "    'housing', 'number_of_existing_credits', 'job', 'number_of_people_liable',\n",
    "    'telephone', 'foreign_worker', 'credit_risk'\n",
    "]\n",
    "\n",
    "# URL to the raw dataset\n",
    "url = 'https://archive.ics.uci.edu/ml/machine-learning-databases/statlog/german/german.data'\n",
    "\n",
    "# Load the dataset using pandas\n",
    "try:\n",
    "    df = pd.read_csv(url, sep=' ', header=None, names=column_names)\n",
    "    print(\"Dataset loaded successfully.\")\n",
    "except Exception as e:\n",
    "    print(f\"Error loading dataset: {e}\")\n",
    "    # As a fallback, you can download the 'german.data' file and place it in the same directory\n",
    "    # df = pd.read_csv('german.data', sep=' ', header=None, names=column_names)"
   ]
  },
  {
   "cell_type": "code",
   "execution_count": 4,
   "id": "fed6bfa7",
   "metadata": {},
   "outputs": [
    {
     "name": "stdout",
     "output_type": "stream",
     "text": [
      "Target variable 'credit_risk' remapped: 0=Good, 1=Bad\n",
      "\n",
      "First 5 rows of the dataset:\n",
      "  existing_checking_account  duration_in_month credit_history purpose  \\\n",
      "0                       A11                  6            A34     A43   \n",
      "1                       A12                 48            A32     A43   \n",
      "2                       A14                 12            A34     A46   \n",
      "3                       A11                 42            A32     A42   \n",
      "4                       A11                 24            A33     A40   \n",
      "\n",
      "   credit_amount savings_account_bonds present_employment_since  \\\n",
      "0           1169                   A65                      A75   \n",
      "1           5951                   A61                      A73   \n",
      "2           2096                   A61                      A74   \n",
      "3           7882                   A61                      A74   \n",
      "4           4870                   A61                      A73   \n",
      "\n",
      "   installment_rate_percentage personal_status_sex other_debtors_guarantors  \\\n",
      "0                            4                 A93                     A101   \n",
      "1                            2                 A92                     A101   \n",
      "2                            2                 A93                     A101   \n",
      "3                            2                 A93                     A103   \n",
      "4                            3                 A93                     A101   \n",
      "\n",
      "   ...  property age_in_years  other_installment_plans housing  \\\n",
      "0  ...      A121           67                     A143    A152   \n",
      "1  ...      A121           22                     A143    A152   \n",
      "2  ...      A121           49                     A143    A152   \n",
      "3  ...      A122           45                     A143    A153   \n",
      "4  ...      A124           53                     A143    A153   \n",
      "\n",
      "  number_of_existing_credits   job number_of_people_liable  telephone  \\\n",
      "0                          2  A173                       1       A192   \n",
      "1                          1  A173                       1       A191   \n",
      "2                          1  A172                       2       A191   \n",
      "3                          1  A173                       2       A191   \n",
      "4                          2  A173                       2       A191   \n",
      "\n",
      "  foreign_worker credit_risk  \n",
      "0           A201           0  \n",
      "1           A201           1  \n",
      "2           A201           0  \n",
      "3           A201           0  \n",
      "4           A201           1  \n",
      "\n",
      "[5 rows x 21 columns]\n"
     ]
    }
   ],
   "source": [
    "# The target variable 'credit_risk' is coded as 1 for good and 2 for bad.\n",
    "# We will convert it to a more standard 0 (good) and 1 (bad) format.\n",
    "df['credit_risk'] = df['credit_risk'].map({1: 0, 2: 1})\n",
    "print(\"Target variable 'credit_risk' remapped: 0=Good, 1=Bad\")\n",
    "print(\"\\nFirst 5 rows of the dataset:\")\n",
    "print(df.head())"
   ]
  },
  {
   "cell_type": "markdown",
   "id": "46544696",
   "metadata": {},
   "source": [
    "# 2. Feature Engineering & Preprocessing\n",
    "We need to handle categorical and numerical features differently."
   ]
  },
  {
   "cell_type": "code",
   "execution_count": 5,
   "id": "09fc3897",
   "metadata": {},
   "outputs": [
    {
     "name": "stdout",
     "output_type": "stream",
     "text": [
      "\n",
      "Categorical columns: ['existing_checking_account', 'credit_history', 'purpose', 'savings_account_bonds', 'present_employment_since', 'personal_status_sex', 'other_debtors_guarantors', 'property', 'other_installment_plans', 'housing', 'job', 'telephone', 'foreign_worker']\n",
      "Numerical columns: ['duration_in_month', 'credit_amount', 'installment_rate_percentage', 'present_residence_since', 'age_in_years', 'number_of_existing_credits', 'number_of_people_liable']\n",
      "\n",
      "Categorical features have been one-hot encoded.\n",
      "Numerical features have been scaled.\n"
     ]
    }
   ],
   "source": [
    "# Identify categorical and numerical columns\n",
    "categorical_cols = df.select_dtypes(include=['object']).columns\n",
    "numerical_cols = df.select_dtypes(include=np.number).columns.drop('credit_risk')\n",
    "\n",
    "print(f\"\\nCategorical columns: {list(categorical_cols)}\")\n",
    "print(f\"Numerical columns: {list(numerical_cols)}\")\n",
    "\n",
    "# One-Hot Encode Categorical Features\n",
    "# This creates new columns for each category, avoiding artificial ordering.\n",
    "df_processed = pd.get_dummies(df, columns=categorical_cols, drop_first=True)\n",
    "print(\"\\nCategorical features have been one-hot encoded.\")\n",
    "\n",
    "# Scale Numerical Features\n",
    "# StandardScaler standardizes features by removing the mean and scaling to unit variance.\n",
    "# This is important for neural networks to ensure all features have a similar scale.\n",
    "scaler = StandardScaler()\n",
    "df_processed[numerical_cols] = scaler.fit_transform(df_processed[numerical_cols])\n",
    "print(\"Numerical features have been scaled.\")"
   ]
  },
  {
   "cell_type": "code",
   "execution_count": 6,
   "id": "6aae9f65",
   "metadata": {},
   "outputs": [],
   "source": [
    "# Separate features (X) and target (y)\n",
    "X = df_processed.drop('credit_risk', axis=1)\n",
    "y = df_processed['credit_risk']\n",
    "\n",
    "# Split the data into training and testing sets\n",
    "X_train, X_test, y_train, y_test = train_test_split(X, y, test_size=0.2, random_state=42, stratify=y)\n",
    "\n",
    "# Convert pandas DataFrames to NumPy arrays, then to PyTorch tensors\n",
    "X_train_tensor = torch.tensor(X_train.values.astype(np.float32))\n",
    "y_train_tensor = torch.tensor(y_train.values.astype(np.float32)).unsqueeze(1)\n",
    "X_test_tensor = torch.tensor(X_test.values.astype(np.float32))\n",
    "y_test_tensor = torch.tensor(y_test.values.astype(np.float32)).unsqueeze(1)"
   ]
  },
  {
   "cell_type": "code",
   "execution_count": 7,
   "id": "58820de7",
   "metadata": {},
   "outputs": [],
   "source": [
    "class CreditRiskDataset(Dataset):\n",
    "    def __init__(self, features, labels):\n",
    "        self.features = features\n",
    "        self.labels = labels\n",
    "\n",
    "    def __len__(self):\n",
    "        return len(self.features)\n",
    "\n",
    "    def __getitem__(self, idx):\n",
    "        return self.features[idx], self.labels[idx]"
   ]
  },
  {
   "cell_type": "code",
   "execution_count": 9,
   "id": "46e87998",
   "metadata": {},
   "outputs": [],
   "source": [
    "# Create Dataset instances\n",
    "train_dataset = CreditRiskDataset(X_train_tensor, y_train_tensor)\n",
    "test_dataset = CreditRiskDataset(X_test_tensor, y_test_tensor)\n",
    "\n",
    "# Create DataLoaders for batching and shuffling\n",
    "train_loader = DataLoader(dataset=train_dataset, batch_size=64, shuffle=True)\n",
    "test_loader = DataLoader(dataset=test_dataset, batch_size=64, shuffle=False)"
   ]
  },
  {
   "cell_type": "markdown",
   "id": "9bab6e5f",
   "metadata": {},
   "source": [
    "# Build the model"
   ]
  },
  {
   "cell_type": "code",
   "execution_count": 10,
   "id": "99730a52",
   "metadata": {},
   "outputs": [],
   "source": [
    "class CreditNet(nn.Module):\n",
    "    def __init__(self, input_features):\n",
    "        super(CreditNet, self).__init__()\n",
    "        self.layer1 = nn.Linear(input_features, 128)\n",
    "        self.bn1 = nn.BatchNorm1d(128)\n",
    "        self.relu1 = nn.ReLU()\n",
    "        self.dropout1 = nn.Dropout(0.5)\n",
    "\n",
    "        self.layer2 = nn.Linear(128, 64)\n",
    "        self.bn2 = nn.BatchNorm1d(64)\n",
    "        self.relu2 = nn.ReLU()\n",
    "        self.dropout2 = nn.Dropout(0.3)\n",
    "\n",
    "        self.output_layer = nn.Linear(64, 1)\n",
    "\n",
    "    def forward(self, x):\n",
    "        x = self.dropout1(self.relu1(self.bn1(self.layer1(x))))\n",
    "        x = self.dropout2(self.relu2(self.bn2(self.layer2(x))))\n",
    "        x = self.output_layer(x)\n",
    "        return x\n"
   ]
  },
  {
   "cell_type": "code",
   "execution_count": 11,
   "id": "71715dbc",
   "metadata": {},
   "outputs": [
    {
     "name": "stdout",
     "output_type": "stream",
     "text": [
      "\n",
      "Neural Network Model Architecture:\n",
      "CreditNet(\n",
      "  (layer1): Linear(in_features=48, out_features=128, bias=True)\n",
      "  (bn1): BatchNorm1d(128, eps=1e-05, momentum=0.1, affine=True, track_running_stats=True)\n",
      "  (relu1): ReLU()\n",
      "  (dropout1): Dropout(p=0.5, inplace=False)\n",
      "  (layer2): Linear(in_features=128, out_features=64, bias=True)\n",
      "  (bn2): BatchNorm1d(64, eps=1e-05, momentum=0.1, affine=True, track_running_stats=True)\n",
      "  (relu2): ReLU()\n",
      "  (dropout2): Dropout(p=0.3, inplace=False)\n",
      "  (output_layer): Linear(in_features=64, out_features=1, bias=True)\n",
      ")\n"
     ]
    }
   ],
   "source": [
    "# Instantiate the model\n",
    "input_size = X_train.shape[1]\n",
    "pytorch_model = CreditNet(input_features=input_size)\n",
    "print(\"\\nNeural Network Model Architecture:\")\n",
    "print(pytorch_model)"
   ]
  },
  {
   "cell_type": "markdown",
   "id": "970596a5",
   "metadata": {},
   "source": [
    "# 5. Train the PyTorch Model\n",
    "Train the model with the following parameters."
   ]
  },
  {
   "cell_type": "code",
   "execution_count": 12,
   "id": "04847c98",
   "metadata": {},
   "outputs": [
    {
     "name": "stdout",
     "output_type": "stream",
     "text": [
      "PyTorch Model - Epoch [10/50], Loss: 0.4531\n",
      "PyTorch Model - Epoch [20/50], Loss: 0.4168\n",
      "PyTorch Model - Epoch [30/50], Loss: 0.3572\n",
      "PyTorch Model - Epoch [40/50], Loss: 0.5428\n",
      "PyTorch Model - Epoch [50/50], Loss: 0.3536\n"
     ]
    }
   ],
   "source": [
    "criterion = nn.BCEWithLogitsLoss()\n",
    "optimizer = torch.optim.Adam(pytorch_model.parameters(), lr=0.001)\n",
    "\n",
    "num_epochs = 50\n",
    "for epoch in range(num_epochs):\n",
    "    pytorch_model.train()\n",
    "    for features, labels in train_loader:\n",
    "        outputs = pytorch_model(features)\n",
    "        loss = criterion(outputs, labels)\n",
    "        optimizer.zero_grad()\n",
    "        loss.backward()\n",
    "        optimizer.step()\n",
    "    if (epoch + 1) % 10 == 0:\n",
    "        print(f'PyTorch Model - Epoch [{epoch+1}/{num_epochs}], Loss: {loss.item():.4f}')"
   ]
  },
  {
   "cell_type": "markdown",
   "id": "452dc860",
   "metadata": {},
   "source": [
    "# 6. Evaluate the PyTorch Model"
   ]
  },
  {
   "cell_type": "code",
   "execution_count": 13,
   "id": "9b70d1ba",
   "metadata": {},
   "outputs": [],
   "source": [
    "pytorch_model.eval()\n",
    "pt_all_preds = []\n",
    "pt_all_labels = []\n",
    "\n",
    "with torch.no_grad():\n",
    "    for features, labels in test_loader:\n",
    "        outputs = pytorch_model(features)\n",
    "        predicted = torch.sigmoid(outputs) >= 0.5\n",
    "        pt_all_preds.extend(predicted.numpy())\n",
    "        pt_all_labels.extend(labels.numpy())\n",
    "\n",
    "pt_all_preds = [item for sublist in pt_all_preds for item in sublist]\n",
    "pt_all_labels = [item for sublist in pt_all_labels for item in sublist]\n",
    "\n",
    "pt_accuracy = accuracy_score(pt_all_labels, pt_all_preds)\n",
    "pt_precision = precision_score(pt_all_labels, pt_all_preds)\n",
    "pt_recall = recall_score(pt_all_labels, pt_all_preds)\n",
    "pt_f1 = f1_score(pt_all_labels, pt_all_preds)"
   ]
  },
  {
   "cell_type": "markdown",
   "id": "2a6d4587",
   "metadata": {},
   "source": [
    "# 7. Train and Evaluate XGBoost Model\n",
    "We want to compare this overfitting model of XGBoost with the Deep Learning Model."
   ]
  },
  {
   "cell_type": "code",
   "execution_count": 14,
   "id": "2d4cf889",
   "metadata": {},
   "outputs": [
    {
     "name": "stdout",
     "output_type": "stream",
     "text": [
      "\n",
      "--- Training XGBoost Model ---\n",
      "--- Evaluating XGBoost Model ---\n"
     ]
    },
    {
     "name": "stderr",
     "output_type": "stream",
     "text": [
      "c:\\Users\\eduar\\anaconda3\\Lib\\site-packages\\xgboost\\training.py:183: UserWarning: [16:28:00] WARNING: C:\\actions-runner\\_work\\xgboost\\xgboost\\src\\learner.cc:738: \n",
      "Parameters: { \"use_label_encoder\" } are not used.\n",
      "\n",
      "  bst.update(dtrain, iteration=i, fobj=obj)\n"
     ]
    }
   ],
   "source": [
    "print(\"\\n--- Training XGBoost Model ---\")\n",
    "xgb_model = xgb.XGBClassifier(objective='binary:logistic', use_label_encoder=False, eval_metric='logloss', random_state=42)\n",
    "xgb_model.fit(X_train, y_train)\n",
    "\n",
    "print(\"--- Evaluating XGBoost Model ---\")\n",
    "xgb_preds = xgb_model.predict(X_test)\n",
    "\n",
    "xgb_accuracy = accuracy_score(y_test, xgb_preds)\n",
    "xgb_precision = precision_score(y_test, xgb_preds)\n",
    "xgb_recall = recall_score(y_test, xgb_preds)\n",
    "xgb_f1 = f1_score(y_test, xgb_preds)\n"
   ]
  },
  {
   "cell_type": "markdown",
   "id": "a4c2e5b0",
   "metadata": {},
   "source": [
    "# Final Model Comparison"
   ]
  },
  {
   "cell_type": "code",
   "execution_count": 15,
   "id": "53ad36ae",
   "metadata": {},
   "outputs": [
    {
     "name": "stdout",
     "output_type": "stream",
     "text": [
      "\n",
      "--- Model Performance Comparison ---\n",
      "Metric         | PyTorch NN | XGBoost\n",
      "----------------|------------|----------\n",
      "Accuracy       | 0.8000     | 0.7600\n",
      "Precision      | 0.6613     | 0.6250\n",
      "Recall         | 0.6833     | 0.5000\n",
      "F1-Score       | 0.6721     | 0.5556\n",
      "--------------------------------------\n"
     ]
    }
   ],
   "source": [
    "print(\"\\n--- Model Performance Comparison ---\")\n",
    "print(\"Metric         | PyTorch NN | XGBoost\")\n",
    "print(\"----------------|------------|----------\")\n",
    "print(f\"Accuracy       | {pt_accuracy:.4f}     | {xgb_accuracy:.4f}\")\n",
    "print(f\"Precision      | {pt_precision:.4f}     | {xgb_precision:.4f}\")\n",
    "print(f\"Recall         | {pt_recall:.4f}     | {xgb_recall:.4f}\")\n",
    "print(f\"F1-Score       | {pt_f1:.4f}     | {xgb_f1:.4f}\")\n",
    "print(\"--------------------------------------\")\n"
   ]
  },
  {
   "cell_type": "code",
   "execution_count": 17,
   "id": "c24f9ace",
   "metadata": {},
   "outputs": [
    {
     "data": {
      "text/plain": [
       "<Axes: title={'center': 'Feature importance'}, xlabel='Importance score', ylabel='Features'>"
      ]
     },
     "execution_count": 17,
     "metadata": {},
     "output_type": "execute_result"
    },
    {
     "data": {
      "image/png": "[encoded data removed]",
      "text/plain": [
       "<Figure size 640x480 with 1 Axes>"
      ]
     },
     "metadata": {},
     "output_type": "display_data"
    }
   ],
   "source": [
    "# For the PyTorch model, libraries like SHAP or LIME can be used to explain predictions.\n",
    "# For XGBoost, we can easily get feature importances, which is a major advantage for interpretability.\n",
    "# For example:\n",
    "xgb.plot_importance(xgb_model, max_num_features=10)\n",
    "# This shows which features the model found most predictive."
   ]
  },
  {
   "cell_type": "code",
   "execution_count": null,
   "id": "f46ee15c",
   "metadata": {},
   "outputs": [],
   "source": []
  }
 ],
 "metadata": {
  "kernelspec": {
   "display_name": "base",
   "language": "python",
   "name": "python3"
  },
  "language_info": {
   "codemirror_mode": {
    "name": "ipython",
    "version": 3
   },
   "file_extension": ".py",
   "mimetype": "text/x-python",
   "name": "python",
   "nbconvert_exporter": "python",
   "pygments_lexer": "ipython3",
   "version": "3.12.4"
  }
 },
 "nbformat": 4,
 "nbformat_minor": 5
}
