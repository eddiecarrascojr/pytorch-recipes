{
 "cells": [
  {
   "cell_type": "code",
   "execution_count": 1,
   "id": "85baef7f",
   "metadata": {},
   "outputs": [],
   "source": [
    "import torch\n",
    "import torch.nn as nn\n",
    "import torch.optim as optim\n",
    "from torch.utils.data import DataLoader\n",
    "from torchvision import datasets, transforms\n",
    "from torchvision.utils import save_image\n",
    "import numpy as np\n",
    "import os"
   ]
  },
  {
   "cell_type": "markdown",
   "id": "aba518eb",
   "metadata": {},
   "source": [
    "# 1. Hyperparameters and Setup\n",
    "Define the core parameters for the training process.\n",
    "These values are based on the original DCGAN paper and common practices."
   ]
  },
  {
   "cell_type": "code",
   "execution_count": 2,
   "id": "6a1d5bd8",
   "metadata": {},
   "outputs": [],
   "source": [
    "batch_size = 128\n",
    "image_size = 64  # We'll resize the images to 64x64\n",
    "nc = 3           # Number of channels in the training images (3 for color images)\n",
    "nz = 100         # Size of the latent z vector (i.e., size of generator input)\n",
    "ngf = 64         # Size of feature maps in generator\n",
    "ndf = 64         # Size of feature maps in discriminator\n",
    "num_epochs = 25  # Number of training epochs\n",
    "lr = 0.0002      # Learning rate for optimizers\n",
    "beta1 = 0.5      # Beta1 hyperparameter for Adam optimizers"
   ]
  },
  {
   "cell_type": "code",
   "execution_count": 3,
   "id": "b3de10cb",
   "metadata": {},
   "outputs": [],
   "source": [
    "output_dir = \"output\"\n",
    "if not os.path.exists(output_dir):\n",
    "    os.makedirs(output_dir)"
   ]
  },
  {
   "cell_type": "markdown",
   "id": "5f88a0be",
   "metadata": {},
   "source": [
    "# 2. Data Loading and Preprocessing\n",
    "\n",
    "We use torchvision to download and prepare the CelebA dataset.\n",
    "\n",
    "The transformations will resize, crop, and normalize the images.\n",
    "\n",
    "Normalizing to the range [-1, 1] is crucial as the generator uses tanh activation.\n",
    "\n",
    "### Note about the download\n",
    "This download process might take a considerable amount of time depending on your internet connection.\n",
    "\n"
   ]
  },
  {
   "cell_type": "code",
   "execution_count": 5,
   "id": "7abb6f54",
   "metadata": {},
   "outputs": [
    {
     "name": "stderr",
     "output_type": "stream",
     "text": [
      "Downloading...\n",
      "From (original): https://drive.google.com/uc?id=0B7EVK8r0v71pZjFTYXZWM3FlRnM\n",
      "From (redirected): https://drive.usercontent.google.com/download?id=0B7EVK8r0v71pZjFTYXZWM3FlRnM&confirm=t&uuid=9e6cb117-7488-4a7f-8b65-aa1b3774352b\n",
      "To: c:\\Users\\eduar\\Documents\\Code\\pytorch-recipes\\Face-Generator-GANs\\data\\celeba\\img_align_celeba.zip\n",
      "100%|██████████| 1.44G/1.44G [00:40<00:00, 35.2MB/s]\n",
      "Downloading...\n",
      "From: https://drive.google.com/uc?id=0B7EVK8r0v71pblRyaVFSWGxPY0U\n",
      "To: c:\\Users\\eduar\\Documents\\Code\\pytorch-recipes\\Face-Generator-GANs\\data\\celeba\\list_attr_celeba.txt\n",
      "100%|██████████| 26.7M/26.7M [00:00<00:00, 27.2MB/s]\n",
      "Downloading...\n",
      "From: https://drive.google.com/uc?id=1_ee_0u7vcNLOfNLegJRHmolfH5ICW-XS\n",
      "To: c:\\Users\\eduar\\Documents\\Code\\pytorch-recipes\\Face-Generator-GANs\\data\\celeba\\identity_CelebA.txt\n",
      "100%|██████████| 3.42M/3.42M [00:00<00:00, 15.9MB/s]\n",
      "Downloading...\n",
      "From: https://drive.google.com/uc?id=0B7EVK8r0v71pbThiMVRxWXZ4dU0\n",
      "To: c:\\Users\\eduar\\Documents\\Code\\pytorch-recipes\\Face-Generator-GANs\\data\\celeba\\list_bbox_celeba.txt\n",
      "100%|██████████| 6.08M/6.08M [00:00<00:00, 24.0MB/s]\n",
      "Downloading...\n",
      "From: https://drive.google.com/uc?id=0B7EVK8r0v71pd0FJY3Blby1HUTQ\n",
      "To: c:\\Users\\eduar\\Documents\\Code\\pytorch-recipes\\Face-Generator-GANs\\data\\celeba\\list_landmarks_align_celeba.txt\n",
      "100%|██████████| 12.2M/12.2M [00:00<00:00, 27.0MB/s]\n",
      "Downloading...\n",
      "From: https://drive.google.com/uc?id=0B7EVK8r0v71pY0NSMzRuSXJEVkk\n",
      "To: c:\\Users\\eduar\\Documents\\Code\\pytorch-recipes\\Face-Generator-GANs\\data\\celeba\\list_eval_partition.txt\n",
      "100%|██████████| 2.84M/2.84M [00:00<00:00, 14.6MB/s]\n"
     ]
    }
   ],
   "source": [
    "dataset = datasets.CelebA(\n",
    "    root=\"./data\",\n",
    "    split='all',  # Use all available images\n",
    "    download=True,\n",
    "    transform=transforms.Compose([\n",
    "        transforms.Resize(image_size),\n",
    "        transforms.CenterCrop(image_size),\n",
    "        transforms.ToTensor(),\n",
    "        transforms.Normalize((0.5, 0.5, 0.5), (0.5, 0.5, 0.5)),\n",
    "    ])\n",
    ")"
   ]
  },
  {
   "cell_type": "code",
   "execution_count": 6,
   "id": "4a1bc08e",
   "metadata": {},
   "outputs": [],
   "source": [
    "# Create the DataLoader to manage batches of data\n",
    "dataloader = DataLoader(dataset, batch_size=batch_size, shuffle=True)"
   ]
  },
  {
   "cell_type": "code",
   "execution_count": 7,
   "id": "0b6792df",
   "metadata": {},
   "outputs": [
    {
     "name": "stdout",
     "output_type": "stream",
     "text": [
      "Using device: cuda:0\n"
     ]
    }
   ],
   "source": [
    "# Decide which device to run on\n",
    "device = torch.device(\"cuda:0\" if torch.cuda.is_available() else \"cpu\")\n",
    "print(f\"Using device: {device}\")"
   ]
  },
  {
   "cell_type": "markdown",
   "id": "94b28eb9",
   "metadata": {},
   "source": [
    "# Model Architecture\n",
    "This model has two parts a \n",
    "### Generator Network\n",
    "The generator takes a random noise vector (z) and upsamples it through a series of transpose convolutional layers to create a 64x64 color image.\n",
    "\n",
    "### Discriminator Network\n",
    "The discriminator takes a 64x64 image and downsamples it through convolutional layers, outputting a single probability indicating if the image is real or fake."
   ]
  },
  {
   "cell_type": "code",
   "execution_count": 8,
   "id": "3f2e9e6a",
   "metadata": {},
   "outputs": [],
   "source": [
    "# Custom weights initialization called on netG and netD\n",
    "def weights_init(m):\n",
    "    classname = m.__class__.__name__\n",
    "    if classname.find('Conv') != -1:\n",
    "        nn.init.normal_(m.weight.data, 0.0, 0.02)\n",
    "    elif classname.find('BatchNorm') != -1:\n",
    "        nn.init.normal_(m.weight.data, 1.0, 0.02)\n",
    "        nn.init.constant_(m.bias.data, 0)"
   ]
  },
  {
   "cell_type": "code",
   "execution_count": 9,
   "id": "d8102ac1",
   "metadata": {},
   "outputs": [],
   "source": [
    "class Generator(nn.Module):\n",
    "    def __init__(self):\n",
    "        super(Generator, self).__init__()\n",
    "        self.main = nn.Sequential(\n",
    "            # input is Z, going into a convolution\n",
    "            nn.ConvTranspose2d(nz, ngf * 8, 4, 1, 0, bias=False),\n",
    "            nn.BatchNorm2d(ngf * 8),\n",
    "            nn.ReLU(True),\n",
    "            # state size. (ngf*8) x 4 x 4\n",
    "            nn.ConvTranspose2d(ngf * 8, ngf * 4, 4, 2, 1, bias=False),\n",
    "            nn.BatchNorm2d(ngf * 4),\n",
    "            nn.ReLU(True),\n",
    "            # state size. (ngf*4) x 8 x 8\n",
    "            nn.ConvTranspose2d(ngf * 4, ngf * 2, 4, 2, 1, bias=False),\n",
    "            nn.BatchNorm2d(ngf * 2),\n",
    "            nn.ReLU(True),\n",
    "            # state size. (ngf*2) x 16 x 16\n",
    "            nn.ConvTranspose2d(ngf * 2, ngf, 4, 2, 1, bias=False),\n",
    "            nn.BatchNorm2d(ngf),\n",
    "            nn.ReLU(True),\n",
    "            # state size. (ngf) x 32 x 32\n",
    "            nn.ConvTranspose2d(ngf, nc, 4, 2, 1, bias=False),\n",
    "            nn.Tanh()\n",
    "            # state size. (nc) x 64 x 64\n",
    "        )\n",
    "\n",
    "    def forward(self, input):\n",
    "        return self.main(input)"
   ]
  },
  {
   "cell_type": "code",
   "execution_count": 10,
   "id": "5661c605",
   "metadata": {},
   "outputs": [],
   "source": [
    "class Discriminator(nn.Module):\n",
    "    def __init__(self):\n",
    "        super(Discriminator, self).__init__()\n",
    "        self.main = nn.Sequential(\n",
    "            # input is (nc) x 64 x 64\n",
    "            nn.Conv2d(nc, ndf, 4, 2, 1, bias=False),\n",
    "            nn.LeakyReLU(0.2, inplace=True),\n",
    "            # state size. (ndf) x 32 x 32\n",
    "            nn.Conv2d(ndf, ndf * 2, 4, 2, 1, bias=False),\n",
    "            nn.BatchNorm2d(ndf * 2),\n",
    "            nn.LeakyReLU(0.2, inplace=True),\n",
    "            # state size. (ndf*2) x 16 x 16\n",
    "            nn.Conv2d(ndf * 2, ndf * 4, 4, 2, 1, bias=False),\n",
    "            nn.BatchNorm2d(ndf * 4),\n",
    "            nn.LeakyReLU(0.2, inplace=True),\n",
    "            # state size. (ndf*4) x 8 x 8\n",
    "            nn.Conv2d(ndf * 4, ndf * 8, 4, 2, 1, bias=False),\n",
    "            nn.BatchNorm2d(ndf * 8),\n",
    "            nn.LeakyReLU(0.2, inplace=True),\n",
    "            # state size. (ndf*8) x 4 x 4\n",
    "            nn.Conv2d(ndf * 8, 1, 4, 1, 0, bias=False),\n",
    "            nn.Sigmoid()\n",
    "        )\n",
    "\n",
    "    def forward(self, input):\n",
    "        return self.main(input)"
   ]
  },
  {
   "cell_type": "markdown",
   "id": "dfabe113",
   "metadata": {},
   "source": [
    "# 4. Training Initialization\n",
    "Create instances of the models and move them to the GPU if available."
   ]
  },
  {
   "cell_type": "code",
   "execution_count": 11,
   "id": "55c9dd18",
   "metadata": {},
   "outputs": [],
   "source": [
    "netG = Generator().to(device)\n",
    "netD = Discriminator().to(device)\n",
    "\n",
    "# Apply the weights_init function to randomly initialize all weights\n",
    "netG.apply(weights_init)\n",
    "netD.apply(weights_init)\n",
    "\n",
    "# Initialize BCELoss function\n",
    "criterion = nn.BCELoss()\n",
    "\n",
    "# Create a batch of latent vectors that we will use to visualize\n",
    "# the progression of the generator\n",
    "fixed_noise = torch.randn(64, nz, 1, 1, device=device)\n",
    "\n",
    "# Establish convention for real and fake labels during training\n",
    "real_label = 1.\n",
    "fake_label = 0.\n",
    "\n",
    "# Setup Adam optimizers for both G and D\n",
    "optimizerD = optim.Adam(netD.parameters(), lr=lr, betas=(beta1, 0.999))\n",
    "optimizerG = optim.Adam(netG.parameters(), lr=lr, betas=(beta1, 0.999))"
   ]
  },
  {
   "cell_type": "markdown",
   "id": "d5c020cf",
   "metadata": {},
   "source": [
    "# 5. The Training Loop"
   ]
  },
  {
   "cell_type": "code",
   "execution_count": null,
   "id": "58b32c7b",
   "metadata": {},
   "outputs": [],
   "source": [
    "print(\"Starting Training Loop...\")\n",
    "for epoch in range(num_epochs):\n",
    "    for i, data in enumerate(dataloader, 0):\n",
    "        # ---------------------------------\n",
    "        # (1) Update Discriminator network\n",
    "        # ---------------------------------\n",
    "        ## Train with all-real batch\n",
    "        netD.zero_grad()\n",
    "        real_cpu = data[0].to(device)\n",
    "        b_size = real_cpu.size(0)\n",
    "        label = torch.full((b_size,), real_label, dtype=torch.float, device=device)\n",
    "        \n",
    "        output = netD(real_cpu).view(-1)\n",
    "        errD_real = criterion(output, label)\n",
    "        errD_real.backward()\n",
    "        D_x = output.mean().item()\n",
    "\n",
    "        ## Train with all-fake batch\n",
    "        noise = torch.randn(b_size, nz, 1, 1, device=device)\n",
    "        fake = netG(noise)\n",
    "        label.fill_(fake_label)\n",
    "        \n",
    "        output = netD(fake.detach()).view(-1)\n",
    "        errD_fake = criterion(output, label)\n",
    "        errD_fake.backward()\n",
    "        D_G_z1 = output.mean().item()\n",
    "        \n",
    "        errD = errD_real + errD_fake\n",
    "        optimizerD.step()\n",
    "\n",
    "        # ---------------------------------\n",
    "        # (2) Update Generator network\n",
    "        # ---------------------------------\n",
    "        netG.zero_grad()\n",
    "        label.fill_(real_label)  # fake labels are real for generator cost\n",
    "        output = netD(fake).view(-1)\n",
    "        errG = criterion(output, label)\n",
    "        errG.backward()\n",
    "        D_G_z2 = output.mean().item()\n",
    "        optimizerG.step()\n",
    "\n",
    "        # Output training stats\n",
    "        if i % 100 == 0:\n",
    "            print(\n",
    "                f'[{epoch+1}/{num_epochs}][{i}/{len(dataloader)}] '\n",
    "                f'Loss_D: {errD.item():.4f} '\n",
    "                f'Loss_G: {errG.item():.4f} '\n",
    "                f'D(x): {D_x:.4f} '\n",
    "                f'D(G(z)): {D_G_z1:.4f} / {D_G_z2:.4f}'\n",
    "            )\n",
    "\n",
    "    # After each epoch, save a grid of generated images from our fixed_noise vector\n",
    "    with torch.no_grad():\n",
    "        fake_images = netG(fixed_noise).detach().cpu()\n",
    "    save_image(\n",
    "        fake_images,\n",
    "        f\"{output_dir}/fake_images_epoch_{epoch+1:02d}.png\",\n",
    "        normalize=True\n",
    "    )\n",
    "\n",
    "print(\"Training finished.\")"
   ]
  },
  {
   "cell_type": "markdown",
   "id": "8e7c883e",
   "metadata": {},
   "source": [
    "# Test the Model"
   ]
  },
  {
   "cell_type": "code",
   "execution_count": null,
   "id": "d6199abf",
   "metadata": {},
   "outputs": [],
   "source": [
    "# --- 6. Save the Trained Generator Model ---\n",
    "generator_save_path = os.path.join(output_dir, \"generator.pth\")\n",
    "torch.save(netG.state_dict(), generator_save_path)\n",
    "print(f\"Generator model saved to {generator_save_path}\")\n",
    "\n",
    "\n",
    "# --- 7. Testing the GAN (Inference) ---\n",
    "# This section demonstrates how to load the trained generator and create new images.\n",
    "# You can run this part independently after you have a saved 'generator.pth' file.\n",
    "print(\"\\n--- Starting GAN Testing/Inference ---\")\n",
    "\n",
    "# Path to the saved generator model\n",
    "saved_model_path = os.path.join(output_dir, \"generator.pth\")\n",
    "\n",
    "if os.path.exists(saved_model_path):\n",
    "    # Instantiate a new generator\n",
    "    test_generator = Generator().to(device)\n",
    "\n",
    "    # Load the trained state dictionary\n",
    "    test_generator.load_state_dict(torch.load(saved_model_path))\n",
    "\n",
    "    # Set the model to evaluation mode\n",
    "    test_generator.eval()\n",
    "\n",
    "    # Generate a new batch of fake images\n",
    "    with torch.no_grad():\n",
    "        # Create a new batch of random noise\n",
    "        test_noise = torch.randn(64, nz, 1, 1, device=device)\n",
    "        # Generate images from the noise\n",
    "        generated_images = test_generator(test_noise).detach().cpu()\n",
    "\n",
    "    # Save the final generated images to a file\n",
    "    final_output_path = os.path.join(output_dir, \"final_generated_faces.png\")\n",
    "    save_image(generated_images, final_output_path, normalize=True)\n",
    "    \n",
    "    print(f\"Successfully generated new faces and saved them to {final_output_path}\")\n",
    "    print(\"You can now open this file to see the results of your trained GAN.\")\n",
    "\n",
    "else:\n",
    "    print(f\"Could not find saved model at {saved_model_path}.\")\n",
    "    print(\"Please run the training script first to generate the model file.\")"
   ]
  }
 ],
 "metadata": {
  "kernelspec": {
   "display_name": "base",
   "language": "python",
   "name": "python3"
  },
  "language_info": {
   "codemirror_mode": {
    "name": "ipython",
    "version": 3
   },
   "file_extension": ".py",
   "mimetype": "text/x-python",
   "name": "python",
   "nbconvert_exporter": "python",
   "pygments_lexer": "ipython3",
   "version": "3.12.4"
  }
 },
 "nbformat": 4,
 "nbformat_minor": 5
}
