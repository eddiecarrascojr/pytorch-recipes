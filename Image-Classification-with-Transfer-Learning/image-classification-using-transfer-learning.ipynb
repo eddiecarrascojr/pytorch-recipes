{
 "cells": [
  {
   "cell_type": "code",
   "execution_count": 5,
   "id": "aa2b9238",
   "metadata": {},
   "outputs": [],
   "source": [
    "import os\n",
    "import zipfile\n",
    "\n",
    "import torch\n",
    "import torch.nn as nn\n",
    "import torchvision.transforms as transforms\n",
    "from torchvision import datasets, models\n",
    "from torch.utils.data import DataLoader\n"
   ]
  },
  {
   "cell_type": "markdown",
   "id": "2c4e5749",
   "metadata": {},
   "source": [
    "# Pre-requist for this notebook\n",
    "Run the cell if you have not downloaded the cat dog dataset."
   ]
  },
  {
   "cell_type": "code",
   "execution_count": 4,
   "id": "4918b012",
   "metadata": {},
   "outputs": [],
   "source": [
    "def download_kaggle_dataset(dataset_name, destination_folder):\n",
    "    \"\"\"\n",
    "    Downloads a Kaggle dataset and extracts it to the specified folder.\n",
    "    \n",
    "    :param dataset_name: str, the name of the Kaggle dataset (e.g., 'zillow/zecon')\n",
    "    :param destination_folder: str, the folder where the dataset will be extracted\n",
    "    \"\"\"\n",
    "    from kaggle.api.kaggle_api_extended import KaggleApi\n",
    "    api = KaggleApi()\n",
    "    api.authenticate()\n",
    "    api.dataset_download_files('tongpython/cat-and-dog', path='data', unzip=True)\n",
    "\n",
    "    # Step 2: Organize into train/val folders\n",
    "    import shutil\n",
    "    from sklearn.model_selection import train_test_split\n",
    "\n",
    "    source_dir = \"kaggle_data/cat_and_dog\"\n",
    "    train_dir = \"kaggle_data/train\"\n",
    "    val_dir = \"kaggle_data/val\"\n",
    "    os.makedirs(train_dir + \"/cats\", exist_ok=True)\n",
    "    os.makedirs(train_dir + \"/dogs\", exist_ok=True)\n",
    "    os.makedirs(val_dir + \"/cats\", exist_ok=True)\n",
    "    os.makedirs(val_dir + \"/dogs\", exist_ok=True)\n",
    "\n",
    "    all_files = os.listdir(source_dir)\n",
    "    cat_files = [f for f in all_files if 'cat' in f]\n",
    "    dog_files = [f for f in all_files if 'dog' in f]\n",
    "\n",
    "    train_cats, val_cats = train_test_split(cat_files, test_size=0.2, random_state=42)\n",
    "    train_dogs, val_dogs = train_test_split(dog_files, test_size=0.2, random_state=42)\n",
    "\n",
    "    for f in files:\n",
    "        shutil.copy(os.path.join(src, f), os.path.join(dst, f))\n",
    "\n",
    "    copy_files(train_cats, source_dir, train_dir + \"/cats\")\n",
    "    copy_files(val_cats, source_dir, val_dir + \"/cats\")\n",
    "    copy_files(train_dogs, source_dir, train_dir + \"/dogs\")\n",
    "    copy_files(val_dogs, source_dir, val_dir + \"/dogs\")\n",
    "\n",
    "    print(f\"Dataset downloaded and organized into {train_dir} and {val_dir}\")\n",
    "\n",
    "# download_kaggle_dataset('tongpython/cat-and-dog', 'kaggle_data')\n"
   ]
  },
  {
   "cell_type": "markdown",
   "id": "37a559dd",
   "metadata": {},
   "source": [
    "# Check if a Cuda GPU is in Use\n"
   ]
  },
  {
   "cell_type": "code",
   "execution_count": null,
   "id": "d4d4913c",
   "metadata": {},
   "outputs": [
    {
     "name": "stdout",
     "output_type": "stream",
     "text": [
      "Using device: cuda\n"
     ]
    }
   ],
   "source": [
    "# Device config\n",
    "device = torch.device(\"cuda\" if torch.cuda.is_available() else \"cpu\")\n",
    "\n",
    "print(f\"Using device: {device}\")"
   ]
  },
  {
   "cell_type": "code",
   "execution_count": null,
   "id": "309007bf",
   "metadata": {},
   "outputs": [],
   "source": [
    "# Transformations\n",
    "transform = transforms.Compose([\n",
    "    transforms.Resize((224, 224)),\n",
    "    transforms.ToTensor(),\n",
    "    transforms.Normalize([0.485, 0.456, 0.406], \n",
    "                         [0.229, 0.224, 0.225])\n",
    "])"
   ]
  },
  {
   "cell_type": "code",
   "execution_count": null,
   "id": "acdda09e",
   "metadata": {},
   "outputs": [],
   "source": [
    "train_dataset = datasets.ImageFolder('kaggle_data/train', transform=transform)\n",
    "val_dataset = datasets.ImageFolder('kaggle_data/val', transform=transform)\n",
    "\n",
    "train_loader = DataLoader(train_dataset, batch_size=32, shuffle=True)\n",
    "val_loader = DataLoader(val_dataset, batch_size=32)"
   ]
  },
  {
   "cell_type": "markdown",
   "id": "4d6e18e9",
   "metadata": {},
   "source": [
    "# Set up the Transfer Learning Model\n"
   ]
  },
  {
   "cell_type": "code",
   "execution_count": null,
   "id": "c1be0050",
   "metadata": {},
   "outputs": [],
   "source": [
    "# Model setup\n",
    "model = models.resnet18(pretrained=True)\n",
    "for param in model.parameters():\n",
    "    param.requires_grad = False\n",
    "\n",
    "model.fc = nn.Linear(model.fc.in_features, 2)\n",
    "model = model.to(device)\n",
    "\n",
    "# Loss and optimizer\n",
    "criterion = nn.CrossEntropyLoss()\n",
    "optimizer = torch.optim.Adam(model.fc.parameters(), lr=0.001)"
   ]
  },
  {
   "cell_type": "markdown",
   "id": "cdf02102",
   "metadata": {},
   "source": [
    "# Training the model"
   ]
  },
  {
   "cell_type": "code",
   "execution_count": null,
   "id": "a81bc49a",
   "metadata": {},
   "outputs": [],
   "source": [
    "# Training loop\n",
    "for epoch in range(5):\n",
    "    model.train()\n",
    "    running_loss = 0\n",
    "    correct = 0\n",
    "    total = 0\n",
    "\n",
    "    for images, labels in train_loader:\n",
    "        images = images.to(device)\n",
    "        labels = labels.to(device)\n",
    "\n",
    "        outputs = model(images)\n",
    "        loss = criterion(outputs, labels)\n",
    "\n",
    "        optimizer.zero_grad()\n",
    "        loss.backward()\n",
    "        optimizer.step()\n",
    "\n",
    "        running_loss += loss.item()\n",
    "        _, predicted = torch.max(outputs, 1)\n",
    "        total += labels.size(0)\n",
    "        correct += (predicted == labels).sum().item()\n",
    "\n",
    "    print(f\"Epoch {epoch+1}: Loss={running_loss:.4f}, Accuracy={100 * correct / total:.2f}%\")"
   ]
  },
  {
   "cell_type": "markdown",
   "id": "e58d5561",
   "metadata": {},
   "source": [
    "# Evaluate the Model"
   ]
  },
  {
   "cell_type": "code",
   "execution_count": null,
   "id": "547e314b",
   "metadata": {},
   "outputs": [],
   "source": [
    "# Save the model\n",
    "torch.save(model.state_dict(), \"resnet18_transfer.pth\")\n",
    "# Validation loop\n",
    "model.eval()\n",
    "correct = 0\n",
    "total = 0\n",
    "with torch.no_grad():\n",
    "    for images, labels in val_loader:\n",
    "        images = images.to(device)\n",
    "        labels = labels.to(device)\n",
    "        outputs = model(images)\n",
    "        _, predicted = torch.max(outputs, 1)\n",
    "        total += labels.size(0)\n",
    "        correct += (predicted == labels).sum().item()\n",
    "\n",
    "print(f'Validation Accuracy: {100 * correct / total:.2f}%')"
   ]
  }
 ],
 "metadata": {
  "kernelspec": {
   "display_name": "base",
   "language": "python",
   "name": "python3"
  },
  "language_info": {
   "codemirror_mode": {
    "name": "ipython",
    "version": 3
   },
   "file_extension": ".py",
   "mimetype": "text/x-python",
   "name": "python",
   "nbconvert_exporter": "python",
   "pygments_lexer": "ipython3",
   "version": "3.12.4"
  }
 },
 "nbformat": 4,
 "nbformat_minor": 5
}
